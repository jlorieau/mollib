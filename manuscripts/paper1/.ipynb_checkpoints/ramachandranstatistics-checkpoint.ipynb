{
 "cells": [
  {
   "cell_type": "markdown",
   "metadata": {},
   "source": [
    "# RamachandranStatistics"
   ]
  },
  {
   "cell_type": "markdown",
   "metadata": {},
   "source": [
    "Get measurement dict.\n",
    "\n",
    "With a 2.5A cutoff, the No HB vs total is 30.5%\n",
    "With a 2.8A cutoff, the No HB vs total is 28.5%"
   ]
  },
  {
   "cell_type": "code",
   "execution_count": 1,
   "metadata": {
    "collapsed": true
   },
   "outputs": [],
   "source": [
    "import tarfile\n",
    "import json\n",
    "\n",
    "filename = '../../mollib/data/ramachandranstatistics/measurements.tar'\n",
    "tfile = tarfile.open(name=filename, mode='r')\n",
    "measurement_dict = {}\n",
    "\n",
    "with tfile:\n",
    "    # Extract the files\n",
    "    for member in tfile.getmembers():\n",
    "        f= tfile.extractfile(member)\n",
    "        try:\n",
    "            identifier = member.name.strip('.json')\n",
    "            string = f.read().decode()\n",
    "            return_dict = json.loads(string)\n",
    "            measurement_dict[identifier] = return_dict\n",
    "        except KeyError:\n",
    "            continue\n",
    "        finally:\n",
    "            f.close()"
   ]
  },
  {
   "cell_type": "code",
   "execution_count": 2,
   "metadata": {
    "collapsed": false
   },
   "outputs": [
    {
     "data": {
      "text/plain": [
       "11369"
      ]
     },
     "execution_count": 2,
     "metadata": {},
     "output_type": "execute_result"
    }
   ],
   "source": [
    "len(measurement_dict)"
   ]
  },
  {
   "cell_type": "code",
   "execution_count": 4,
   "metadata": {
    "collapsed": false
   },
   "outputs": [],
   "source": [
    "import numpy as np\n",
    "\n",
    "results = {}\n",
    "for identifier, return_dict in measurement_dict.items():\n",
    "    for classification, phi_psi_list in return_dict.items():\n",
    "        l = results.setdefault(classification, list())\n",
    "        phi_psi_list = [(i,j) for i,j in phi_psi_list if isinstance(i, float) and isinstance(j, float)]\n",
    "        l.extend(phi_psi_list)"
   ]
  },
  {
   "cell_type": "code",
   "execution_count": 8,
   "metadata": {
    "collapsed": false
   },
   "outputs": [
    {
     "name": "stdout",
     "output_type": "stream",
     "text": [
      "16\n",
      "[u'alpha-helix', u'alpha-helix__C-term', u'sheet', u\"type I' turn\", u'type I turn', 'Overall', u'isolated', u'Gly__C-term', u'Gly', u'Gly__N-term', u'alpha-helix__N-term', u'310-helix', u\"type II' turn\", u'No hydrogen bonds', u'pi-helix', u'type II turn']\n",
      "10013764\n"
     ]
    }
   ],
   "source": [
    "%matplotlib inline\n",
    "\n",
    "import matplotlib.pyplot as plt\n",
    "from matplotlib.colors import LogNorm\n",
    "\n",
    "plt.style.reload_library()\n",
    "plt.style.use(['publication', '1col'])\n",
    "plt.rcParams['image.cmap'] = 'Blues_r'\n",
    "\n",
    "phi_list = []\n",
    "psi_list = []\n",
    "# Create and Overall dataset\n",
    "for classification, phi_psi in results.items():\n",
    "    phi, psi = zip(*phi_psi)\n",
    "    phi_list += phi\n",
    "    psi_list += psi\n",
    "\n",
    "results['Overall'] = zip(phi_list, psi_list)\n",
    "    \n",
    "print(len(results))\n",
    "print(results.keys())\n",
    "print(sum([len(v) for v in results.values()]))"
   ]
  },
  {
   "cell_type": "code",
   "execution_count": null,
   "metadata": {
    "collapsed": false
   },
   "outputs": [],
   "source": [
    "from itertools import izip_longest as zip_longest\n",
    "import matplotlib.pyplot as plt\n",
    "\n",
    "plt.style.reload_library()\n",
    "plt.style.use(['publication'])\n",
    "\n",
    "figsize=(7,1.5)\n",
    "\n",
    "from matplotlib import rcParams \n",
    "rcParams.update({'figure.autolayout':False})\n",
    "\n",
    "# Define the plots. These are organized by keys in results and the corresponding color map.\n",
    "labels = (('Overall', plt.cm.Oranges_r),\n",
    "          ('alpha-helix', plt.cm.Greens_r),\n",
    "          ('alpha-helix__N-term', plt.cm.Greens_r),\n",
    "          ('alpha-helix__C-term', plt.cm.Greens_r),\n",
    "          ('310-helix', plt.cm.Greens_r),\n",
    "          ('pi-helix', plt.cm.Greens_r),\n",
    "          ('sheet', plt.cm.Blues_r),\n",
    "          ('type I turn', plt.cm.Reds_r),\n",
    "          ('type II turn', plt.cm.Reds_r),\n",
    "          (\"type I' turn\", plt.cm.Reds_r),\n",
    "          (\"type II' turn\", plt.cm.Reds_r),\n",
    "          ('Gly', plt.cm.Reds_r),\n",
    "           )\n",
    "\n",
    "def grouper(n, iterable, fillvalue=None):\n",
    "    \"grouper(3, 'ABCDEFG', 'x') --> ABC DEF Gxx\"\n",
    "    args = [iter(iterable)] * n\n",
    "    return zip_longest(*args, fillvalue=fillvalue)\n",
    "\n",
    "subfigure_groups = list(grouper(4,labels))\n",
    "\n",
    "for row, subfigure_labels in enumerate(subfigure_groups, 1):\n",
    "    f, axarr = plt.subplots(1,len(subfigure_labels), sharey=True, figsize=figsize)\n",
    "    axarr[0].set_ylabel(r'$\\psi$ (deg)')\n",
    "    \n",
    "    for count, (label, cmap) in enumerate(subfigure_labels):\n",
    "        axarr[count].set_title(label.replace('__', ' ').replace('alpha', \"$\\\\alpha$\").replace('pi', \"$\\\\pi$\"),\n",
    "                               size=10)\n",
    "        axarr[count].set_xlabel(r'$\\phi$ (deg)')\n",
    "\n",
    "        axarr[count].xaxis.set_ticks(np.arange(-180, 181, 90))\n",
    "        axarr[count].set_xlim(-180, 180)\n",
    "        axarr[count].yaxis.set_ticks(np.arange(-180, 181, 90))\n",
    "        axarr[count].set_ylim(-180, 180)\n",
    "\n",
    "        axarr[count].get_xaxis().tick_bottom()\n",
    "        axarr[count].get_yaxis().tick_left()\n",
    "\n",
    "        phi_psi = results[label]\n",
    "        x,y = zip(*phi_psi)\n",
    "\n",
    "        x = np.array(x)\n",
    "        y = np.array(y)\n",
    "        hist2d, x, y = np.histogram2d(y, x, bins=36, range=np.array([(-180., 190.), (-180., 190.)]))\n",
    "        hist2d = -1.*np.log(hist2d + 0.1)\n",
    "\n",
    "        minimum = np.min(hist2d)\n",
    "        hist2d -= minimum\n",
    "        \n",
    "        levels = np.arange(0.0, 5.1, 1.0)\n",
    "\n",
    "        axarr[count].contourf(x[:-1], y[:-1], hist2d, levels, cmap=cmap)\n",
    "        \n",
    "        plt.savefig('ramachandran_countour_{}.svg'.format(row), format='SVG', \n",
    "                    bbox_inches='tight', pad_inches=0.05)\n",
    "        plt.savefig('ramachandran_countour_{}.png'.format(row), format='PNG', \n",
    "                    dpi=1200, bbox_inches='tight', pad_inches=0.05)\n",
    "    plt.show()\n",
    "        \n"
   ]
  },
  {
   "cell_type": "markdown",
   "metadata": {
    "collapsed": true
   },
   "source": [
    "# HbondStatistics"
   ]
  },
  {
   "cell_type": "code",
   "execution_count": 2,
   "metadata": {
    "collapsed": false
   },
   "outputs": [],
   "source": [
    "import tarfile\n",
    "import json\n",
    "\n",
    "filename = '../mollib/data/hbondstatistics/measurements.tar'\n",
    "tfile = tarfile.open(name=filename, mode='r')\n",
    "measurement_dict = {}\n",
    "\n",
    "with tfile:\n",
    "    # Extract the files\n",
    "    for member in tfile.getmembers():\n",
    "        f= tfile.extractfile(member)\n",
    "        try:\n",
    "            identifier = member.name.strip('.json')\n",
    "            string = f.read().decode()\n",
    "            return_dict = json.loads(string)\n",
    "            measurement_dict[identifier] = return_dict\n",
    "        except KeyError:\n",
    "            continue\n",
    "        finally:\n",
    "            f.close()"
   ]
  },
  {
   "cell_type": "code",
   "execution_count": 3,
   "metadata": {
    "collapsed": false
   },
   "outputs": [
    {
     "data": {
      "text/plain": [
       "11369"
      ]
     },
     "execution_count": 3,
     "metadata": {},
     "output_type": "execute_result"
    }
   ],
   "source": [
    "len(measurement_dict)"
   ]
  },
  {
   "cell_type": "code",
   "execution_count": 22,
   "metadata": {
    "collapsed": false,
    "scrolled": false
   },
   "outputs": [
    {
     "name": "stdout",
     "output_type": "stream",
     "text": [
      "[ 1.   1.1  1.2  1.3  1.4  1.5  1.6  1.7  1.8  1.9  2.   2.1  2.2  2.3  2.4\n",
      "  2.5  2.6  2.7  2.8  2.9  3.   3.1  3.2  3.3  3.4  3.5]\n",
      "overall\n"
     ]
    },
    {
     "data": {
      "image/png": "[encoded data removed]",
      "text/plain": [
       "<matplotlib.figure.Figure at 0x2aa074410>"
      ]
     },
     "metadata": {},
     "output_type": "display_data"
    },
    {
     "name": "stdout",
     "output_type": "stream",
     "text": [
      "\n"
     ]
    },
    {
     "data": {
      "image/png": "[encoded data removed]",
      "text/plain": [
       "<matplotlib.figure.Figure at 0x2a605a4d0>"
      ]
     },
     "metadata": {},
     "output_type": "display_data"
    },
    {
     "name": "stdout",
     "output_type": "stream",
     "text": [
      "sc-bb amide\n"
     ]
    },
    {
     "data": {
      "image/png": "[encoded data removed]",
      "text/plain": [
       "<matplotlib.figure.Figure at 0x2aa0ae210>"
      ]
     },
     "metadata": {},
     "output_type": "display_data"
    },
    {
     "name": "stdout",
     "output_type": "stream",
     "text": [
      "sc-bb hydroxyl\n"
     ]
    },
    {
     "data": {
      "image/png": "[encoded data removed]",
      "text/plain": [
       "<matplotlib.figure.Figure at 0x29e64e6d0>"
      ]
     },
     "metadata": {},
     "output_type": "display_data"
    },
    {
     "name": "stdout",
     "output_type": "stream",
     "text": [
      "overall\n"
     ]
    },
    {
     "data": {
      "image/png": "[encoded data removed]",
      "text/plain": [
       "<matplotlib.figure.Figure at 0x2a6d97150>"
      ]
     },
     "metadata": {},
     "output_type": "display_data"
    },
    {
     "name": "stdout",
     "output_type": "stream",
     "text": [
      "sc-sc amide\n"
     ]
    },
    {
     "data": {
      "image/png": "[encoded data removed]",
      "text/plain": [
       "<matplotlib.figure.Figure at 0x2a6dd9750>"
      ]
     },
     "metadata": {},
     "output_type": "display_data"
    },
    {
     "name": "stdout",
     "output_type": "stream",
     "text": [
      "bb-sc amide\n"
     ]
    },
    {
     "data": {
      "image/png": "[encoded data removed]",
      "text/plain": [
       "<matplotlib.figure.Figure at 0x29e791b90>"
      ]
     },
     "metadata": {},
     "output_type": "display_data"
    },
    {
     "name": "stdout",
     "output_type": "stream",
     "text": [
      "sc-sc hydroxyl\n"
     ]
    },
    {
     "data": {
      "image/png": "[encoded data removed]",
      "text/plain": [
       "<matplotlib.figure.Figure at 0x2a6c95dd0>"
      ]
     },
     "metadata": {},
     "output_type": "display_data"
    },
    {
     "name": "stdout",
     "output_type": "stream",
     "text": [
      "bb-bb amide\n"
     ]
    },
    {
     "data": {
      "image/png": "[encoded data removed]",
      "text/plain": [
       "<matplotlib.figure.Figure at 0x2a6e25850>"
      ]
     },
     "metadata": {},
     "output_type": "display_data"
    }
   ],
   "source": [
    "%matplotlib inline\n",
    "import numpy as np\n",
    "\n",
    "import matplotlib.pyplot as plt\n",
    "\n",
    "d1a1 = {}\n",
    "for identifier, return_dict in measurement_dict.items():\n",
    "    for classification, hbond_dict_list in return_dict.items():\n",
    "        major, minor, modifier = classification.split('__')\n",
    "        dists = d1a1.setdefault(major, list())\n",
    "        d1a1_dists = [d['distances']['d1a1'] for d in hbond_dict_list]\n",
    "        dists += d1a1_dists\n",
    "        \n",
    "        overall = d1a1.setdefault('overall', list())\n",
    "        overall += d1a1_dists\n",
    "\n",
    "hist_range = (1.0, 3.5)\n",
    "bins = 25\n",
    "\n",
    "hist1d, edges = np.histogram(overall, bins=bins, range=hist_range, density=True)\n",
    "np.savez('overall' + '.npz', edges, hist1d,)\n",
    "print(edges)\n",
    "\n",
    "E = hist1d*0.1\n",
    "E = -1.*np.log(hist1d + 0.1)\n",
    "maximum = np.max(E)\n",
    "E -= maximum\n",
    "print('overall')\n",
    "plt.bar(edges[0:-1], E, width=(hist_range[1]-hist_range[0])/bins, align='center', color='blue')\n",
    "plt.show()\n",
    "\n",
    "# for classification, d1a1_dists in d1a1.items():\n",
    "#     hist1d, edges = np.histogram(d1a1_dists, bins=bins, range=hist_range, density=True)\n",
    "#     np.savez(classification + '.npz', edges, hist1d,)\n",
    "    \n",
    "#     E = -1.*np.log(hist1d + 0.1)\n",
    "#     maximum = np.max(E)\n",
    "#     E -= maximum\n",
    "    \n",
    "#     print(classification)\n",
    "    \n",
    "#     plt.bar(edges[0:-1], E, width=(hist_range[1]-hist_range[0])/bins, align='center', color='red')\n",
    "#     plt.show()"
   ]
  },
  {
   "cell_type": "code",
   "execution_count": null,
   "metadata": {
    "collapsed": true
   },
   "outputs": [],
   "source": []
  }
 ],
 "metadata": {
  "kernelspec": {
   "display_name": "Python 2",
   "language": "python",
   "name": "python2"
  },
  "language_info": {
   "codemirror_mode": {
    "name": "ipython",
    "version": 2
   },
   "file_extension": ".py",
   "mimetype": "text/x-python",
   "name": "python",
   "nbconvert_exporter": "python",
   "pygments_lexer": "ipython2",
   "version": "2.7.10"
  }
 },
 "nbformat": 4,
 "nbformat_minor": 0
}
